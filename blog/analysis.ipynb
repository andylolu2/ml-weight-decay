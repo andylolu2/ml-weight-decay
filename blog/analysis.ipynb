{
 "cells": [
  {
   "cell_type": "code",
   "execution_count": null,
   "metadata": {},
   "outputs": [],
   "source": [
    "from tensorboard.backend.event_processing.event_accumulator import EventAccumulator\n",
    "from tensorboard.backend.event_processing import tag_types\n",
    "from tensorboard.plugins.hparams import plugin_data_pb2\n",
    "from google.protobuf.json_format import MessageToDict\n",
    "import pandas as pd\n",
    "import seaborn as sns\n",
    "import numpy as np\n",
    "import matplotlib.pyplot as plt\n",
    "import matplotlib.ticker as ticker"
   ]
  },
  {
   "cell_type": "code",
   "execution_count": null,
   "metadata": {},
   "outputs": [],
   "source": [
    "sns.set()"
   ]
  },
  {
   "cell_type": "code",
   "execution_count": null,
   "metadata": {},
   "outputs": [],
   "source": [
    "readers = []\n",
    "for version in range(98, 116):\n",
    "    reader = EventAccumulator(\n",
    "        f\"../lightning_logs/version_{version}\",\n",
    "        size_guidance={tag_types.SCALARS: 0})\n",
    "    reader.Reload()\n",
    "    readers.append(reader)"
   ]
  },
  {
   "cell_type": "code",
   "execution_count": null,
   "metadata": {},
   "outputs": [],
   "source": [
    "tags = {\n",
    "    'Train': 'train/accuracy',\n",
    "    'Test': 'val/accuracy/dataloader_idx_1',\n",
    "}"
   ]
  },
  {
   "cell_type": "code",
   "execution_count": null,
   "metadata": {},
   "outputs": [],
   "source": [
    "def get_hparams(reader):\n",
    "    ret = {}\n",
    "    hparams = plugin_data_pb2.HParamsPluginData.FromString(\n",
    "        reader.summary_metadata['_hparams_/session_start_info'].plugin_data.content\n",
    "    )\n",
    "    buf = hparams.session_start_info.hparams\n",
    "    for k, v in buf.items():\n",
    "        ret[k] = MessageToDict(v)\n",
    "    return ret"
   ]
  },
  {
   "cell_type": "code",
   "execution_count": null,
   "metadata": {},
   "outputs": [],
   "source": [
    "df = []\n",
    "\n",
    "for reader in readers:\n",
    "    l2 = get_hparams(reader)['l2_norm']\n",
    "    for name, tag in tags.items():\n",
    "        scalars = reader.Scalars(tag)\n",
    "        values = [scalar.value for scalar in scalars[-50:]]\n",
    "        mean = np.mean(values)\n",
    "        df.append({\n",
    "            \"Weight Decay λ\": l2, \n",
    "            \"Accuracy\": mean,\n",
    "            \"Metric\": name\n",
    "        })\n",
    "\n",
    "df = pd.DataFrame(df)"
   ]
  },
  {
   "cell_type": "code",
   "execution_count": null,
   "metadata": {},
   "outputs": [],
   "source": [
    "plt.figure(figsize=(10,6))\n",
    "ax = sns.lineplot(\n",
    "    data=df, x=\"Weight Decay λ\", y=\"Accuracy\", hue=\"Metric\", \n",
    "    marker=\"o\", alpha=0.7, palette=\"mako_r\"\n",
    ")\n",
    "ax.set(\n",
    "    xscale=\"log\",\n",
    ")\n",
    "ax.xaxis.set_major_locator(ticker.LogLocator(10, subs=(1, 3)))\n",
    "ax.axvline(0.3, 0, 1, linestyle='--', color=sns.color_palette(\"mako_r\", as_cmap=True)(0.8, 0.8))\n",
    "ax.text(0.26, 0.2, \"Interpolation Threshold\", \n",
    "    horizontalalignment='right', \n",
    "    fontsize='large', \n",
    "    fontweight='ultralight',\n",
    "    color='black' \n",
    ")\n",
    "plt.savefig(\"static/lambda_vs_accuracy.png\", dpi=300, bbox_inches=\"tight\")"
   ]
  },
  {
   "cell_type": "code",
   "execution_count": null,
   "metadata": {},
   "outputs": [],
   "source": [
    "train_tags = {\n",
    "    'Loss': 'train/loss',\n",
    "    'Weight norm': 'train/l2_norm',\n",
    "    'Train accuracy': 'train/accuracy',\n",
    "    'Test accuracy': 'val/accuracy/dataloader_idx_1'\n",
    "}"
   ]
  },
  {
   "cell_type": "code",
   "execution_count": null,
   "metadata": {},
   "outputs": [],
   "source": [
    "df2 = {}\n",
    "for name, tag in train_tags.items():\n",
    "    scalars = readers[0].Scalars(tag)\n",
    "    values = [scalar.value for scalar in scalars]\n",
    "    steps = [scalar.step for scalar in scalars]\n",
    "    df2[name] = values\n",
    "    df2[\"Step\"] = steps\n",
    "\n",
    "df2 = pd.DataFrame(df2)"
   ]
  },
  {
   "cell_type": "code",
   "execution_count": null,
   "metadata": {},
   "outputs": [],
   "source": [
    "df2"
   ]
  },
  {
   "cell_type": "code",
   "execution_count": null,
   "metadata": {},
   "outputs": [],
   "source": [
    "fig, axes = plt.subplots(3, 1, sharex=True, figsize=(16,10))\n",
    "\n",
    "first = df2[df2[\"Train accuracy\"] > 0.999][\"Step\"].min()\n",
    "max_step = 30000\n",
    "\n",
    "for i, ax in enumerate(axes):\n",
    "    ax.set(xlim=[0, max_step])\n",
    "    if i == 0:\n",
    "        ax.axvline(first, 0, 1, linestyle='--', \n",
    "            color=sns.color_palette(\"mako_r\", as_cmap=True)(0.8, 0.8),\n",
    "            zorder=0, clip_on=False\n",
    "        )\n",
    "    else:\n",
    "        ax.axvline(first, 0, 1.2, linestyle='--', \n",
    "            color=sns.color_palette(\"mako_r\", as_cmap=True)(0.8, 0.8),\n",
    "            zorder=0, clip_on=False\n",
    "        )\n",
    "\n",
    "for i, col in enumerate(list(train_tags.keys())[:2]):\n",
    "    sns.lineplot(data=df2, x=\"Step\", y=col, ax=axes[i], palette=\"mako_r\")\n",
    "\n",
    "transformed_df = df2[[\"Step\", \"Train accuracy\", \"Test accuracy\"]]\n",
    "transformed_df = transformed_df.melt(id_vars=[\"Step\"], var_name=\"Metric\", value_name=\"Accuracy\")\n",
    "sns.lineplot(data=transformed_df, x=\"Step\", y=\"Accuracy\", hue=\"Metric\", ax=axes[2], palette=\"mako_r\")\n",
    "\n",
    "axes[1].text(first/2, 80, \"Fitting the\\n training set\", \n",
    "    ha='center', \n",
    "    va='center',\n",
    "    fontsize='large', \n",
    "    fontweight='ultralight',\n",
    "    color='black' \n",
    ")\n",
    "\n",
    "axes[1].text((first+max_step)/2, 80, \"Finding simpler interpolations\", \n",
    "    ha='center', \n",
    "    va='center',\n",
    "    fontsize='x-large', \n",
    "    fontweight='ultralight',\n",
    "    color='black' \n",
    ")\n",
    "\n",
    "axes[2].text(first, -0.11, first, \n",
    "    ha='center', \n",
    "    va='top',\n",
    "    fontsize=11.4, \n",
    "    fontweight='ultralight',\n",
    "    color='black' \n",
    ")\n",
    "\n",
    "plt.savefig(\"static/training_curves.png\", dpi=300, bbox_inches=\"tight\")"
   ]
  },
  {
   "cell_type": "markdown",
   "metadata": {},
   "source": [
    "# BatchNorm with Weight Decay"
   ]
  },
  {
   "cell_type": "code",
   "execution_count": null,
   "metadata": {},
   "outputs": [],
   "source": [
    "runs = [98, 117]\n",
    "\n",
    "df3 = []\n",
    "\n",
    "for run in runs:\n",
    "    reader = EventAccumulator(\n",
    "        f\"../lightning_logs/version_{run}\",\n",
    "        size_guidance={tag_types.SCALARS: 0})\n",
    "    reader.Reload()\n",
    "    scalars = reader.Scalars(\"val/accuracy/dataloader_idx_1\")\n",
    "    for scalar in scalars:\n",
    "        df3.append({\n",
    "            \"Accuracy\": scalar.value,\n",
    "            \"Step\": scalar.step,\n",
    "            \"Epsilon\": \"1e-2\" if run == 98 else \"1e-5 (PyTorch default)\"\n",
    "        })\n",
    "\n",
    "df3 = pd.DataFrame(df3)"
   ]
  },
  {
   "cell_type": "code",
   "execution_count": null,
   "metadata": {},
   "outputs": [],
   "source": [
    "plt.figure(figsize=(12,6))\n",
    "ax = sns.lineplot(data=df3, x=\"Step\", y=\"Accuracy\", hue=\"Epsilon\", palette=\"mako_r\")\n",
    "ax.set(\n",
    "    xlim=[0, 40000]\n",
    ")\n",
    "plt.savefig(\"static/batch_norm_and_weight_decay.png\", dpi=300, bbox_inches=\"tight\")"
   ]
  }
 ],
 "metadata": {
  "interpreter": {
   "hash": "1c754cc2aaffb0c9362839d49a2860bf5567dc29190d248a56fb2db81bc11c56"
  },
  "kernelspec": {
   "display_name": "Python 3.9.6 64-bit ('ml-weight-decay': pyenv)",
   "name": "python3"
  },
  "language_info": {
   "codemirror_mode": {
    "name": "ipython",
    "version": 3
   },
   "file_extension": ".py",
   "mimetype": "text/x-python",
   "name": "python",
   "nbconvert_exporter": "python",
   "pygments_lexer": "ipython3",
   "version": "3.9.6"
  },
  "orig_nbformat": 4
 },
 "nbformat": 4,
 "nbformat_minor": 2
}
